# machine-learning-challenge

# Import libraries and dependencies.
import pandas as pd
# Clean up data
df = pd.read_csv("exoplanet_data.csv")
# Drop the null columns where all values are null
df = df.dropna(axis='columns', how='all')
# Drop the null rows
df = df.dropna()
df.head()

df.describe()

# Select features
# Set target, features and feature_names.
target = df["koi_disposition"]
data = df.drop("koi_disposition", axis=1)
# Drops labels from columns for koi_disposition
feature_names = data.columns
# The feature_names option is just a way to pass the names of the features for plotting. It is used for example if you want to override the column names of a panda data frame
data.head()
# Preview data

# Create a train test split. 
from sklearn.model_selection import train_test_split
X_train, X_test, y_train, y_test = train_test_split(data, target, random_state=42)
# sklearn.model_selection.train_test_split(*arrays, test_size=None, train_size=None, random_state=None, shuffle=True, stratify=None)[source] 
# This splits arrays into random subsets

# Pre Processing
from sklearn.preprocessing import MinMaxScaler
X_minmax = MinMaxScaler().fit(X_train)
# class sklearn.preprocessing.MinMaxScaler(feature_range=0, 1, *, copy=True, clip=False)

X_train_minmax = X_minmax.transform(X_train)
X_test_minmax = X_minmax.transform(X_test)

# Train the model 
from sklearn.svm import SVC 
model = SVC(kernel='linear')
model.fit(X_train_minmax, y_train)

print(f"Training Data Score: {model.score(X_train_minmax, y_train)}")
print(f"Testing Data Score: {model.score(X_test_minmax, y_test)}")

# Hyperparameter tuning 

# Create the GridSearchCV model
from sklearn.model_selection import GridSearchCV
param_grid = {'C': [1, 5, 10, 50],
              'gamma': [0.0001, 0.0005, 0.001, 0.005]}
grid = GridSearchCV(model, param_grid, verbose=3)

# Train the model with GridSearch
grid.fit(X_train_minmax, y_train)

print(grid.best_params_)
print(grid.best_score_)

# Training score:
grid.score(X_train_minmax, y_train)

# Testing score:
grid.score(X_test_minmax, y_test)

# Make prediction and save to variable for report.
predictions = grid.predict(X_test_minmax)

# Print Classification Report.
from sklearn.metrics import classification_report
print(classification_report(y_test, predictions))

import joblib
filename = 'Models/TLarson_svm.sav'
joblib.dump(model, filename)
